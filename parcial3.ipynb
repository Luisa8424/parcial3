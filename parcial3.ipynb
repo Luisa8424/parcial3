{
  "nbformat": 4,
  "nbformat_minor": 0,
  "metadata": {
    "colab": {
      "name": "parcial3.ipynb",
      "provenance": [],
      "authorship_tag": "ABX9TyPvGJb44qeXSh8WPOnkY5B6",
      "include_colab_link": true
    },
    "kernelspec": {
      "name": "python3",
      "display_name": "Python 3"
    },
    "language_info": {
      "name": "python"
    }
  },
  "cells": [
    {
      "cell_type": "markdown",
      "metadata": {
        "id": "view-in-github",
        "colab_type": "text"
      },
      "source": [
        "<a href=\"https://colab.research.google.com/github/Luisa8424/parcial3/blob/main/parcial3.ipynb\" target=\"_parent\"><img src=\"https://colab.research.google.com/assets/colab-badge.svg\" alt=\"Open In Colab\"/></a>"
      ]
    },
    {
      "cell_type": "code",
      "execution_count": null,
      "metadata": {
        "id": "lj4g3lq1Zvs1"
      },
      "outputs": [],
      "source": [
        "x=float(int(\"inserte numero\"))"
      ]
    },
    {
      "cell_type": "code",
      "source": [
        ""
      ],
      "metadata": {
        "id": "pIP6kFuBbEza"
      },
      "execution_count": null,
      "outputs": []
    }
  ]
}